{
 "cells": [
  {
   "cell_type": "code",
   "execution_count": 1,
   "metadata": {
    "collapsed": true
   },
   "outputs": [],
   "source": [
    "import tensorflow as tf\n",
    "import numpy as np"
   ]
  },
  {
   "cell_type": "code",
   "execution_count": 2,
   "metadata": {
    "collapsed": true
   },
   "outputs": [],
   "source": [
    "import matplotlib.pyplot as plt"
   ]
  },
  {
   "cell_type": "code",
   "execution_count": 3,
   "metadata": {
    "collapsed": true
   },
   "outputs": [],
   "source": [
    "%matplotlib inline"
   ]
  },
  {
   "cell_type": "code",
   "execution_count": 4,
   "metadata": {
    "collapsed": true
   },
   "outputs": [],
   "source": [
    "N=100"
   ]
  },
  {
   "cell_type": "code",
   "execution_count": 5,
   "metadata": {
    "collapsed": true
   },
   "outputs": [],
   "source": [
    "x=np.random.rand(100,3)"
   ]
  },
  {
   "cell_type": "code",
   "execution_count": 6,
   "metadata": {
    "collapsed": true
   },
   "outputs": [],
   "source": [
    "w=[0.2,0.4,-0.1]"
   ]
  },
  {
   "cell_type": "code",
   "execution_count": 7,
   "metadata": {
    "collapsed": true
   },
   "outputs": [],
   "source": [
    "noise=np.random.rand(1,100)"
   ]
  },
  {
   "cell_type": "code",
   "execution_count": 8,
   "metadata": {
    "collapsed": true
   },
   "outputs": [],
   "source": [
    "bias=-0.9"
   ]
  },
  {
   "cell_type": "code",
   "execution_count": 14,
   "metadata": {
    "collapsed": true
   },
   "outputs": [],
   "source": [
    "wxb=np.matmul(w,x.T)+noise+bias"
   ]
  },
  {
   "cell_type": "code",
   "execution_count": 10,
   "metadata": {
    "collapsed": true
   },
   "outputs": [],
   "source": [
    "def sigmoid(x):\n",
    "    return 1 / (1 + np.exp(-x))"
   ]
  },
  {
   "cell_type": "code",
   "execution_count": 15,
   "metadata": {
    "collapsed": true
   },
   "outputs": [],
   "source": [
    "y_data_pre_noise = sigmoid(wxb)"
   ]
  },
  {
   "cell_type": "code",
   "execution_count": 17,
   "metadata": {
    "collapsed": true
   },
   "outputs": [],
   "source": [
    "y_data = np.random.binomial(1,y_data_pre_noise)"
   ]
  },
  {
   "cell_type": "code",
   "execution_count": 16,
   "metadata": {},
   "outputs": [
    {
     "data": {
      "text/plain": [
       "[<matplotlib.lines.Line2D at 0x7fa111e14e48>,\n",
       " <matplotlib.lines.Line2D at 0x7fa111e14cf8>,\n",
       " <matplotlib.lines.Line2D at 0x7fa111e14b38>,\n",
       " <matplotlib.lines.Line2D at 0x7fa111e21ba8>,\n",
       " <matplotlib.lines.Line2D at 0x7fa111e219e8>,\n",
       " <matplotlib.lines.Line2D at 0x7fa111e21828>,\n",
       " <matplotlib.lines.Line2D at 0x7fa111e21668>,\n",
       " <matplotlib.lines.Line2D at 0x7fa111e214a8>,\n",
       " <matplotlib.lines.Line2D at 0x7fa111e212e8>,\n",
       " <matplotlib.lines.Line2D at 0x7fa111e21128>,\n",
       " <matplotlib.lines.Line2D at 0x7fa111cc66a0>,\n",
       " <matplotlib.lines.Line2D at 0x7fa111e209b0>,\n",
       " <matplotlib.lines.Line2D at 0x7fa111e207f0>,\n",
       " <matplotlib.lines.Line2D at 0x7fa111e20630>,\n",
       " <matplotlib.lines.Line2D at 0x7fa111e20390>,\n",
       " <matplotlib.lines.Line2D at 0x7fa111e201d0>,\n",
       " <matplotlib.lines.Line2D at 0x7fa111e20550>,\n",
       " <matplotlib.lines.Line2D at 0x7fa118e63c88>,\n",
       " <matplotlib.lines.Line2D at 0x7fa118e63518>,\n",
       " <matplotlib.lines.Line2D at 0x7fa118e670b8>,\n",
       " <matplotlib.lines.Line2D at 0x7fa111ca3748>,\n",
       " <matplotlib.lines.Line2D at 0x7fa111c62160>,\n",
       " <matplotlib.lines.Line2D at 0x7fa111c62320>,\n",
       " <matplotlib.lines.Line2D at 0x7fa111c624e0>,\n",
       " <matplotlib.lines.Line2D at 0x7fa111c626a0>,\n",
       " <matplotlib.lines.Line2D at 0x7fa111c62860>,\n",
       " <matplotlib.lines.Line2D at 0x7fa111c62a20>,\n",
       " <matplotlib.lines.Line2D at 0x7fa111c62be0>,\n",
       " <matplotlib.lines.Line2D at 0x7fa111c62da0>,\n",
       " <matplotlib.lines.Line2D at 0x7fa111c62f60>,\n",
       " <matplotlib.lines.Line2D at 0x7fa111be9160>,\n",
       " <matplotlib.lines.Line2D at 0x7fa111be9320>,\n",
       " <matplotlib.lines.Line2D at 0x7fa111be94e0>,\n",
       " <matplotlib.lines.Line2D at 0x7fa111be96a0>,\n",
       " <matplotlib.lines.Line2D at 0x7fa111be9860>,\n",
       " <matplotlib.lines.Line2D at 0x7fa111be9a20>,\n",
       " <matplotlib.lines.Line2D at 0x7fa111be9be0>,\n",
       " <matplotlib.lines.Line2D at 0x7fa111be9da0>,\n",
       " <matplotlib.lines.Line2D at 0x7fa111be9f60>,\n",
       " <matplotlib.lines.Line2D at 0x7fa111bfb160>,\n",
       " <matplotlib.lines.Line2D at 0x7fa111bfb320>,\n",
       " <matplotlib.lines.Line2D at 0x7fa111bfb4e0>,\n",
       " <matplotlib.lines.Line2D at 0x7fa111bfb6a0>,\n",
       " <matplotlib.lines.Line2D at 0x7fa111bfb860>,\n",
       " <matplotlib.lines.Line2D at 0x7fa111bfba20>,\n",
       " <matplotlib.lines.Line2D at 0x7fa111bfbbe0>,\n",
       " <matplotlib.lines.Line2D at 0x7fa111bfbda0>,\n",
       " <matplotlib.lines.Line2D at 0x7fa111bfbf60>,\n",
       " <matplotlib.lines.Line2D at 0x7fa111c05160>,\n",
       " <matplotlib.lines.Line2D at 0x7fa111c05320>,\n",
       " <matplotlib.lines.Line2D at 0x7fa111c054e0>,\n",
       " <matplotlib.lines.Line2D at 0x7fa111c056a0>,\n",
       " <matplotlib.lines.Line2D at 0x7fa111c05860>,\n",
       " <matplotlib.lines.Line2D at 0x7fa111c05a20>,\n",
       " <matplotlib.lines.Line2D at 0x7fa111c05be0>,\n",
       " <matplotlib.lines.Line2D at 0x7fa111c05da0>,\n",
       " <matplotlib.lines.Line2D at 0x7fa111c05f60>,\n",
       " <matplotlib.lines.Line2D at 0x7fa111c13160>,\n",
       " <matplotlib.lines.Line2D at 0x7fa111c13320>,\n",
       " <matplotlib.lines.Line2D at 0x7fa111c134e0>,\n",
       " <matplotlib.lines.Line2D at 0x7fa111c136a0>,\n",
       " <matplotlib.lines.Line2D at 0x7fa111c13860>,\n",
       " <matplotlib.lines.Line2D at 0x7fa111c13a20>,\n",
       " <matplotlib.lines.Line2D at 0x7fa111c13be0>,\n",
       " <matplotlib.lines.Line2D at 0x7fa111c13da0>,\n",
       " <matplotlib.lines.Line2D at 0x7fa111c13f60>,\n",
       " <matplotlib.lines.Line2D at 0x7fa111c21160>,\n",
       " <matplotlib.lines.Line2D at 0x7fa111c21320>,\n",
       " <matplotlib.lines.Line2D at 0x7fa111c214e0>,\n",
       " <matplotlib.lines.Line2D at 0x7fa111c216a0>,\n",
       " <matplotlib.lines.Line2D at 0x7fa111c21860>,\n",
       " <matplotlib.lines.Line2D at 0x7fa111c21a20>,\n",
       " <matplotlib.lines.Line2D at 0x7fa111c21be0>,\n",
       " <matplotlib.lines.Line2D at 0x7fa111c21da0>,\n",
       " <matplotlib.lines.Line2D at 0x7fa111c21f60>,\n",
       " <matplotlib.lines.Line2D at 0x7fa111b32160>,\n",
       " <matplotlib.lines.Line2D at 0x7fa111b32320>,\n",
       " <matplotlib.lines.Line2D at 0x7fa111b324e0>,\n",
       " <matplotlib.lines.Line2D at 0x7fa111b326a0>,\n",
       " <matplotlib.lines.Line2D at 0x7fa111b32860>,\n",
       " <matplotlib.lines.Line2D at 0x7fa111b32a20>,\n",
       " <matplotlib.lines.Line2D at 0x7fa111b32be0>,\n",
       " <matplotlib.lines.Line2D at 0x7fa111b32da0>,\n",
       " <matplotlib.lines.Line2D at 0x7fa111b32f60>,\n",
       " <matplotlib.lines.Line2D at 0x7fa111b3e160>,\n",
       " <matplotlib.lines.Line2D at 0x7fa111b3e320>,\n",
       " <matplotlib.lines.Line2D at 0x7fa111b3e4e0>,\n",
       " <matplotlib.lines.Line2D at 0x7fa111b3e6a0>,\n",
       " <matplotlib.lines.Line2D at 0x7fa111b3e860>,\n",
       " <matplotlib.lines.Line2D at 0x7fa111b3ea20>,\n",
       " <matplotlib.lines.Line2D at 0x7fa111b3ebe0>,\n",
       " <matplotlib.lines.Line2D at 0x7fa111b3eda0>,\n",
       " <matplotlib.lines.Line2D at 0x7fa111b3ef60>,\n",
       " <matplotlib.lines.Line2D at 0x7fa111b4b160>,\n",
       " <matplotlib.lines.Line2D at 0x7fa111b4b320>,\n",
       " <matplotlib.lines.Line2D at 0x7fa111b4b4e0>,\n",
       " <matplotlib.lines.Line2D at 0x7fa111b4b6a0>,\n",
       " <matplotlib.lines.Line2D at 0x7fa111b4b860>,\n",
       " <matplotlib.lines.Line2D at 0x7fa111b4ba20>,\n",
       " <matplotlib.lines.Line2D at 0x7fa111b4bbe0>]"
      ]
     },
     "execution_count": 16,
     "metadata": {},
     "output_type": "execute_result"
    },
    {
     "data": {
      "image/png": "[encoded data removed]",
      "text/plain": [
       "<matplotlib.figure.Figure at 0x7fa118e67cf8>"
      ]
     },
     "metadata": {},
     "output_type": "display_data"
    }
   ],
   "source": [
    "plt.plot(wxb,y_data_pre_noise,'*')"
   ]
  },
  {
   "cell_type": "code",
   "execution_count": 18,
   "metadata": {},
   "outputs": [
    {
     "data": {
      "text/plain": [
       "[<matplotlib.lines.Line2D at 0x7fa111b987b8>,\n",
       " <matplotlib.lines.Line2D at 0x7fa111b98940>,\n",
       " <matplotlib.lines.Line2D at 0x7fa111b98b70>,\n",
       " <matplotlib.lines.Line2D at 0x7fa111b98d68>,\n",
       " <matplotlib.lines.Line2D at 0x7fa111b98f60>,\n",
       " <matplotlib.lines.Line2D at 0x7fa1119ea198>,\n",
       " <matplotlib.lines.Line2D at 0x7fa1119ea390>,\n",
       " <matplotlib.lines.Line2D at 0x7fa1119ea588>,\n",
       " <matplotlib.lines.Line2D at 0x7fa1119ea780>,\n",
       " <matplotlib.lines.Line2D at 0x7fa1119ea978>,\n",
       " <matplotlib.lines.Line2D at 0x7fa111461a58>,\n",
       " <matplotlib.lines.Line2D at 0x7fa1119ead30>,\n",
       " <matplotlib.lines.Line2D at 0x7fa1119eaf28>,\n",
       " <matplotlib.lines.Line2D at 0x7fa1119f5160>,\n",
       " <matplotlib.lines.Line2D at 0x7fa1119f5358>,\n",
       " <matplotlib.lines.Line2D at 0x7fa1119f5550>,\n",
       " <matplotlib.lines.Line2D at 0x7fa1119f5748>,\n",
       " <matplotlib.lines.Line2D at 0x7fa1119f5940>,\n",
       " <matplotlib.lines.Line2D at 0x7fa1119f5b38>,\n",
       " <matplotlib.lines.Line2D at 0x7fa1119f5d30>,\n",
       " <matplotlib.lines.Line2D at 0x7fa1119f5f28>,\n",
       " <matplotlib.lines.Line2D at 0x7fa111a08160>,\n",
       " <matplotlib.lines.Line2D at 0x7fa111a08358>,\n",
       " <matplotlib.lines.Line2D at 0x7fa111a08550>,\n",
       " <matplotlib.lines.Line2D at 0x7fa111a08748>,\n",
       " <matplotlib.lines.Line2D at 0x7fa111a08940>,\n",
       " <matplotlib.lines.Line2D at 0x7fa111a08b38>,\n",
       " <matplotlib.lines.Line2D at 0x7fa111a08d30>,\n",
       " <matplotlib.lines.Line2D at 0x7fa111a08f28>,\n",
       " <matplotlib.lines.Line2D at 0x7fa111a13160>,\n",
       " <matplotlib.lines.Line2D at 0x7fa111a13358>,\n",
       " <matplotlib.lines.Line2D at 0x7fa111a13550>,\n",
       " <matplotlib.lines.Line2D at 0x7fa111a13748>,\n",
       " <matplotlib.lines.Line2D at 0x7fa111a13940>,\n",
       " <matplotlib.lines.Line2D at 0x7fa111a13b38>,\n",
       " <matplotlib.lines.Line2D at 0x7fa111a13d30>,\n",
       " <matplotlib.lines.Line2D at 0x7fa111a13f28>,\n",
       " <matplotlib.lines.Line2D at 0x7fa111a20160>,\n",
       " <matplotlib.lines.Line2D at 0x7fa111a20358>,\n",
       " <matplotlib.lines.Line2D at 0x7fa111a20518>,\n",
       " <matplotlib.lines.Line2D at 0x7fa111a20710>,\n",
       " <matplotlib.lines.Line2D at 0x7fa111a20908>,\n",
       " <matplotlib.lines.Line2D at 0x7fa111a20b00>,\n",
       " <matplotlib.lines.Line2D at 0x7fa111a20cf8>,\n",
       " <matplotlib.lines.Line2D at 0x7fa111a20ef0>,\n",
       " <matplotlib.lines.Line2D at 0x7fa111969128>,\n",
       " <matplotlib.lines.Line2D at 0x7fa111969320>,\n",
       " <matplotlib.lines.Line2D at 0x7fa111969518>,\n",
       " <matplotlib.lines.Line2D at 0x7fa111969710>,\n",
       " <matplotlib.lines.Line2D at 0x7fa111969908>,\n",
       " <matplotlib.lines.Line2D at 0x7fa111969b00>,\n",
       " <matplotlib.lines.Line2D at 0x7fa111969cf8>,\n",
       " <matplotlib.lines.Line2D at 0x7fa111969ef0>,\n",
       " <matplotlib.lines.Line2D at 0x7fa111979128>,\n",
       " <matplotlib.lines.Line2D at 0x7fa111979320>,\n",
       " <matplotlib.lines.Line2D at 0x7fa111979518>,\n",
       " <matplotlib.lines.Line2D at 0x7fa111979710>,\n",
       " <matplotlib.lines.Line2D at 0x7fa111979908>,\n",
       " <matplotlib.lines.Line2D at 0x7fa111979b00>,\n",
       " <matplotlib.lines.Line2D at 0x7fa111979cf8>,\n",
       " <matplotlib.lines.Line2D at 0x7fa111979ef0>,\n",
       " <matplotlib.lines.Line2D at 0x7fa111985128>,\n",
       " <matplotlib.lines.Line2D at 0x7fa111985320>,\n",
       " <matplotlib.lines.Line2D at 0x7fa111985518>,\n",
       " <matplotlib.lines.Line2D at 0x7fa111985710>,\n",
       " <matplotlib.lines.Line2D at 0x7fa111985908>,\n",
       " <matplotlib.lines.Line2D at 0x7fa111985b00>,\n",
       " <matplotlib.lines.Line2D at 0x7fa111985cf8>,\n",
       " <matplotlib.lines.Line2D at 0x7fa111985ef0>,\n",
       " <matplotlib.lines.Line2D at 0x7fa111990128>,\n",
       " <matplotlib.lines.Line2D at 0x7fa111990320>,\n",
       " <matplotlib.lines.Line2D at 0x7fa111990518>,\n",
       " <matplotlib.lines.Line2D at 0x7fa111990710>,\n",
       " <matplotlib.lines.Line2D at 0x7fa111990908>,\n",
       " <matplotlib.lines.Line2D at 0x7fa111990b00>,\n",
       " <matplotlib.lines.Line2D at 0x7fa111990cf8>,\n",
       " <matplotlib.lines.Line2D at 0x7fa111990ef0>,\n",
       " <matplotlib.lines.Line2D at 0x7fa11199e128>,\n",
       " <matplotlib.lines.Line2D at 0x7fa11199e320>,\n",
       " <matplotlib.lines.Line2D at 0x7fa11199e518>,\n",
       " <matplotlib.lines.Line2D at 0x7fa11199e710>,\n",
       " <matplotlib.lines.Line2D at 0x7fa11199e908>,\n",
       " <matplotlib.lines.Line2D at 0x7fa11199eb00>,\n",
       " <matplotlib.lines.Line2D at 0x7fa11199ecf8>,\n",
       " <matplotlib.lines.Line2D at 0x7fa11199eef0>,\n",
       " <matplotlib.lines.Line2D at 0x7fa111d62e10>,\n",
       " <matplotlib.lines.Line2D at 0x7fa111d62978>,\n",
       " <matplotlib.lines.Line2D at 0x7fa111d62160>,\n",
       " <matplotlib.lines.Line2D at 0x7fa111d50ba8>,\n",
       " <matplotlib.lines.Line2D at 0x7fa111d50240>,\n",
       " <matplotlib.lines.Line2D at 0x7fa111d43828>,\n",
       " <matplotlib.lines.Line2D at 0x7fa111461e10>,\n",
       " <matplotlib.lines.Line2D at 0x7fa111461d30>,\n",
       " <matplotlib.lines.Line2D at 0x7fa11144eac8>,\n",
       " <matplotlib.lines.Line2D at 0x7fa11144e6a0>,\n",
       " <matplotlib.lines.Line2D at 0x7fa111441550>,\n",
       " <matplotlib.lines.Line2D at 0x7fa111441080>,\n",
       " <matplotlib.lines.Line2D at 0x7fa111d34320>,\n",
       " <matplotlib.lines.Line2D at 0x7fa111d34e10>,\n",
       " <matplotlib.lines.Line2D at 0x7fa1113fbd30>]"
      ]
     },
     "execution_count": 18,
     "metadata": {},
     "output_type": "execute_result"
    },
    {
     "data": {
      "image/png": "[encoded data removed]",
      "text/plain": [
       "<matplotlib.figure.Figure at 0x7fa111436b00>"
      ]
     },
     "metadata": {},
     "output_type": "display_data"
    }
   ],
   "source": [
    "plt.plot(wxb,y_data,'*')"
   ]
  },
  {
   "cell_type": "code",
   "execution_count": null,
   "metadata": {
    "collapsed": true
   },
   "outputs": [],
   "source": []
  }
 ],
 "metadata": {
  "kernelspec": {
   "display_name": "Python 3",
   "language": "python",
   "name": "python3"
  },
  "language_info": {
   "codemirror_mode": {
    "name": "ipython",
    "version": 3
   },
   "file_extension": ".py",
   "mimetype": "text/x-python",
   "name": "python",
   "nbconvert_exporter": "python",
   "pygments_lexer": "ipython3",
   "version": "3.6.2"
  }
 },
 "nbformat": 4,
 "nbformat_minor": 2
}

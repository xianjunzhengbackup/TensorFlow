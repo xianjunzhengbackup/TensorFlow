{
 "cells": [
  {
   "cell_type": "markdown",
   "metadata": {},
   "source": [
    "# Shallow Net in Keras"
   ]
  },
  {
   "cell_type": "markdown",
   "metadata": {},
   "source": [
    "#### seed(42)只是为了保证每次结果是一样的"
   ]
  },
  {
   "cell_type": "code",
   "execution_count": 17,
   "metadata": {},
   "outputs": [],
   "source": [
    "import numpy as np\n",
    "np.random.seed(42)"
   ]
  },
  {
   "cell_type": "markdown",
   "metadata": {},
   "source": [
    "## Load dependencies"
   ]
  },
  {
   "cell_type": "code",
   "execution_count": 18,
   "metadata": {},
   "outputs": [],
   "source": [
    "import keras\n",
    "from keras.datasets import mnist\n",
    "from keras.models import Sequential\n",
    "from keras.layers import Dense\n",
    "from keras.optimizers import SGD"
   ]
  },
  {
   "cell_type": "markdown",
   "metadata": {},
   "source": [
    "#### Dense layer ,就是fully connected layer,input的所有的神经元都连接到dense layer，同时它也连接到所有的output"
   ]
  },
  {
   "cell_type": "markdown",
   "metadata": {},
   "source": [
    "#### load data"
   ]
  },
  {
   "cell_type": "code",
   "execution_count": 19,
   "metadata": {},
   "outputs": [],
   "source": [
    "(X_train,y_train),(X_test,y_test)=mnist.load_data()"
   ]
  },
  {
   "cell_type": "code",
   "execution_count": 20,
   "metadata": {},
   "outputs": [
    {
     "data": {
      "text/plain": [
       "(60000, 28, 28)"
      ]
     },
     "execution_count": 20,
     "metadata": {},
     "output_type": "execute_result"
    }
   ],
   "source": [
    "X_train.shape"
   ]
  },
  {
   "cell_type": "code",
   "execution_count": 21,
   "metadata": {},
   "outputs": [
    {
     "data": {
      "text/plain": [
       "(60000,)"
      ]
     },
     "execution_count": 21,
     "metadata": {},
     "output_type": "execute_result"
    }
   ],
   "source": [
    "y_train.shape"
   ]
  },
  {
   "cell_type": "markdown",
   "metadata": {},
   "source": [
    "#### y_train是数字"
   ]
  },
  {
   "cell_type": "code",
   "execution_count": 22,
   "metadata": {},
   "outputs": [
    {
     "data": {
      "text/plain": [
       "array([5, 0, 4, 1, 9, 2, 1, 3, 1, 4], dtype=uint8)"
      ]
     },
     "execution_count": 22,
     "metadata": {},
     "output_type": "execute_result"
    }
   ],
   "source": [
    "y_train[0:10]"
   ]
  },
  {
   "cell_type": "markdown",
   "metadata": {},
   "source": [
    "#### Processing data\n",
    "将X_train改成一维的数组，并将数据类型改成float，并将其数值处理呈0-1的小数"
   ]
  },
  {
   "cell_type": "code",
   "execution_count": 23,
   "metadata": {},
   "outputs": [],
   "source": [
    "X_train=X_train.reshape(60000,784).astype('float32')"
   ]
  },
  {
   "cell_type": "code",
   "execution_count": 24,
   "metadata": {},
   "outputs": [],
   "source": [
    "X_test=X_test.reshape(10000,784).astype('float32')"
   ]
  },
  {
   "cell_type": "code",
   "execution_count": 25,
   "metadata": {},
   "outputs": [],
   "source": [
    "X_train /= 255\n",
    "X_test /= 255"
   ]
  },
  {
   "cell_type": "markdown",
   "metadata": {},
   "source": [
    "#### 现在处理y_train，将数字处理成长度为10的数组。"
   ]
  },
  {
   "cell_type": "code",
   "execution_count": 26,
   "metadata": {},
   "outputs": [
    {
     "data": {
      "text/plain": [
       "5"
      ]
     },
     "execution_count": 26,
     "metadata": {},
     "output_type": "execute_result"
    }
   ],
   "source": [
    "y_train[0]"
   ]
  },
  {
   "cell_type": "code",
   "execution_count": 27,
   "metadata": {},
   "outputs": [],
   "source": [
    "y_train = keras.utils.to_categorical(y_train,10)\n",
    "y_test=keras.utils.to_categorical(y_test,10)"
   ]
  },
  {
   "cell_type": "code",
   "execution_count": 28,
   "metadata": {},
   "outputs": [
    {
     "data": {
      "text/plain": [
       "array([ 0.,  0.,  0.,  0.,  0.,  1.,  0.,  0.,  0.,  0.])"
      ]
     },
     "execution_count": 28,
     "metadata": {},
     "output_type": "execute_result"
    }
   ],
   "source": [
    "y_train[0]"
   ]
  },
  {
   "cell_type": "markdown",
   "metadata": {},
   "source": [
    "#### Design neutral network architeture\n",
    "add(Dense(64),activation='sigmoid',input_shape(784,)))表示增加一个dense layer，有64个神经元，使用sigmoid模型"
   ]
  },
  {
   "cell_type": "code",
   "execution_count": 30,
   "metadata": {},
   "outputs": [],
   "source": [
    "model=Sequential()\n",
    "model.add(Dense((64),activation='sigmoid',input_shape=(784,)))\n",
    "model.add(Dense((10),activation='softmax'))"
   ]
  },
  {
   "cell_type": "code",
   "execution_count": 31,
   "metadata": {},
   "outputs": [
    {
     "name": "stdout",
     "output_type": "stream",
     "text": [
      "_________________________________________________________________\n",
      "Layer (type)                 Output Shape              Param #   \n",
      "=================================================================\n",
      "dense_2 (Dense)              (None, 64)                50240     \n",
      "_________________________________________________________________\n",
      "dense_3 (Dense)              (None, 10)                650       \n",
      "=================================================================\n",
      "Total params: 50,890\n",
      "Trainable params: 50,890\n",
      "Non-trainable params: 0\n",
      "_________________________________________________________________\n"
     ]
    }
   ],
   "source": [
    "model.summary()"
   ]
  },
  {
   "cell_type": "markdown",
   "metadata": {},
   "source": [
    "#### Configure model"
   ]
  },
  {
   "cell_type": "code",
   "execution_count": 32,
   "metadata": {},
   "outputs": [],
   "source": [
    "model.compile(loss='mean_squared_error',optimizer=SGD(lr=0.01),metrics=['accuracy'])"
   ]
  },
  {
   "cell_type": "markdown",
   "metadata": {},
   "source": [
    "#### train\n",
    "训练一次，训练集的准确率是0.0895,而X_test的准确率是0.0955"
   ]
  },
  {
   "cell_type": "code",
   "execution_count": 33,
   "metadata": {},
   "outputs": [
    {
     "name": "stdout",
     "output_type": "stream",
     "text": [
      "Train on 60000 samples, validate on 10000 samples\n",
      "Epoch 1/1\n",
      "60000/60000 [==============================] - 2s 33us/step - loss: 0.0915 - acc: 0.0895 - val_loss: 0.0911 - val_acc: 0.0955\n"
     ]
    },
    {
     "data": {
      "text/plain": [
       "<keras.callbacks.History at 0x7f122c36deb8>"
      ]
     },
     "execution_count": 33,
     "metadata": {},
     "output_type": "execute_result"
    }
   ],
   "source": [
    "model.fit(X_train,y_train,batch_size=128,epochs=1,verbose=1,validation_data=(X_test,y_test))"
   ]
  },
  {
   "cell_type": "code",
   "execution_count": 34,
   "metadata": {},
   "outputs": [
    {
     "name": "stdout",
     "output_type": "stream",
     "text": [
      "Train on 60000 samples, validate on 10000 samples\n",
      "Epoch 1/100\n",
      "60000/60000 [==============================] - 1s 24us/step - loss: 0.0908 - acc: 0.1063 - val_loss: 0.0905 - val_acc: 0.1165\n",
      "Epoch 2/100\n",
      "60000/60000 [==============================] - 1s 24us/step - loss: 0.0903 - acc: 0.1406 - val_loss: 0.0901 - val_acc: 0.1511\n",
      "Epoch 3/100\n",
      "60000/60000 [==============================] - 1s 24us/step - loss: 0.0899 - acc: 0.1929 - val_loss: 0.0897 - val_acc: 0.2055\n",
      "Epoch 4/100\n",
      "60000/60000 [==============================] - 1s 24us/step - loss: 0.0895 - acc: 0.2398 - val_loss: 0.0893 - val_acc: 0.2424\n",
      "Epoch 5/100\n",
      "60000/60000 [==============================] - 1s 24us/step - loss: 0.0891 - acc: 0.2704 - val_loss: 0.0889 - val_acc: 0.2717\n",
      "Epoch 6/100\n",
      "60000/60000 [==============================] - 1s 24us/step - loss: 0.0888 - acc: 0.2903 - val_loss: 0.0886 - val_acc: 0.2878\n",
      "Epoch 7/100\n",
      "60000/60000 [==============================] - 1s 24us/step - loss: 0.0884 - acc: 0.3025 - val_loss: 0.0883 - val_acc: 0.3018\n",
      "Epoch 8/100\n",
      "60000/60000 [==============================] - 1s 24us/step - loss: 0.0881 - acc: 0.3097 - val_loss: 0.0879 - val_acc: 0.3091\n",
      "Epoch 9/100\n",
      "60000/60000 [==============================] - 1s 24us/step - loss: 0.0877 - acc: 0.3142 - val_loss: 0.0876 - val_acc: 0.3144\n",
      "Epoch 10/100\n",
      "60000/60000 [==============================] - 1s 25us/step - loss: 0.0874 - acc: 0.3185 - val_loss: 0.0872 - val_acc: 0.3181\n",
      "Epoch 11/100\n",
      "60000/60000 [==============================] - 1s 25us/step - loss: 0.0871 - acc: 0.3197 - val_loss: 0.0869 - val_acc: 0.3203\n",
      "Epoch 12/100\n",
      "60000/60000 [==============================] - 1s 25us/step - loss: 0.0867 - acc: 0.3228 - val_loss: 0.0865 - val_acc: 0.3240\n",
      "Epoch 13/100\n",
      "60000/60000 [==============================] - 2s 25us/step - loss: 0.0864 - acc: 0.3246 - val_loss: 0.0862 - val_acc: 0.3256\n",
      "Epoch 14/100\n",
      "60000/60000 [==============================] - 1s 24us/step - loss: 0.0860 - acc: 0.3259 - val_loss: 0.0858 - val_acc: 0.3279\n",
      "Epoch 15/100\n",
      "60000/60000 [==============================] - 1s 24us/step - loss: 0.0857 - acc: 0.3271 - val_loss: 0.0855 - val_acc: 0.3291\n",
      "Epoch 16/100\n",
      "60000/60000 [==============================] - 1s 25us/step - loss: 0.0853 - acc: 0.3290 - val_loss: 0.0851 - val_acc: 0.3302\n",
      "Epoch 17/100\n",
      "60000/60000 [==============================] - 1s 24us/step - loss: 0.0850 - acc: 0.3306 - val_loss: 0.0847 - val_acc: 0.3315\n",
      "Epoch 18/100\n",
      "60000/60000 [==============================] - 1s 24us/step - loss: 0.0846 - acc: 0.3325 - val_loss: 0.0844 - val_acc: 0.3344\n",
      "Epoch 19/100\n",
      "60000/60000 [==============================] - 2s 26us/step - loss: 0.0842 - acc: 0.3333 - val_loss: 0.0840 - val_acc: 0.3357\n",
      "Epoch 20/100\n",
      "60000/60000 [==============================] - 2s 25us/step - loss: 0.0838 - acc: 0.3353 - val_loss: 0.0836 - val_acc: 0.3391\n",
      "Epoch 21/100\n",
      "60000/60000 [==============================] - 1s 24us/step - loss: 0.0835 - acc: 0.3376 - val_loss: 0.0832 - val_acc: 0.3421\n",
      "Epoch 22/100\n",
      "60000/60000 [==============================] - 1s 24us/step - loss: 0.0831 - acc: 0.3407 - val_loss: 0.0828 - val_acc: 0.3458\n",
      "Epoch 23/100\n",
      "60000/60000 [==============================] - 1s 24us/step - loss: 0.0827 - acc: 0.3436 - val_loss: 0.0824 - val_acc: 0.3512\n",
      "Epoch 24/100\n",
      "60000/60000 [==============================] - 1s 24us/step - loss: 0.0822 - acc: 0.3475 - val_loss: 0.0820 - val_acc: 0.3561\n",
      "Epoch 25/100\n",
      "60000/60000 [==============================] - 1s 24us/step - loss: 0.0818 - acc: 0.3514 - val_loss: 0.0816 - val_acc: 0.3620\n",
      "Epoch 26/100\n",
      "60000/60000 [==============================] - 1s 24us/step - loss: 0.0814 - acc: 0.3560 - val_loss: 0.0811 - val_acc: 0.3664\n",
      "Epoch 27/100\n",
      "60000/60000 [==============================] - 1s 24us/step - loss: 0.0810 - acc: 0.3601 - val_loss: 0.0807 - val_acc: 0.3729\n",
      "Epoch 28/100\n",
      "60000/60000 [==============================] - 1s 24us/step - loss: 0.0806 - acc: 0.3671 - val_loss: 0.0802 - val_acc: 0.3776\n",
      "Epoch 29/100\n",
      "60000/60000 [==============================] - 1s 24us/step - loss: 0.0801 - acc: 0.3728 - val_loss: 0.0798 - val_acc: 0.3838\n",
      "Epoch 30/100\n",
      "60000/60000 [==============================] - 1s 24us/step - loss: 0.0797 - acc: 0.3789 - val_loss: 0.0793 - val_acc: 0.3913\n",
      "Epoch 31/100\n",
      "60000/60000 [==============================] - 1s 25us/step - loss: 0.0792 - acc: 0.3859 - val_loss: 0.0789 - val_acc: 0.3990\n",
      "Epoch 32/100\n",
      "60000/60000 [==============================] - 1s 24us/step - loss: 0.0788 - acc: 0.3932 - val_loss: 0.0784 - val_acc: 0.4064\n",
      "Epoch 33/100\n",
      "60000/60000 [==============================] - 1s 25us/step - loss: 0.0783 - acc: 0.4006 - val_loss: 0.0780 - val_acc: 0.4147\n",
      "Epoch 34/100\n",
      "60000/60000 [==============================] - 1s 24us/step - loss: 0.0779 - acc: 0.4084 - val_loss: 0.0775 - val_acc: 0.4239\n",
      "Epoch 35/100\n",
      "60000/60000 [==============================] - 1s 25us/step - loss: 0.0774 - acc: 0.4170 - val_loss: 0.0770 - val_acc: 0.4323\n",
      "Epoch 36/100\n",
      "60000/60000 [==============================] - 1s 25us/step - loss: 0.0769 - acc: 0.4256 - val_loss: 0.0766 - val_acc: 0.4395\n",
      "Epoch 37/100\n",
      "60000/60000 [==============================] - 1s 25us/step - loss: 0.0765 - acc: 0.4349 - val_loss: 0.0761 - val_acc: 0.4470\n",
      "Epoch 38/100\n",
      "60000/60000 [==============================] - 1s 24us/step - loss: 0.0760 - acc: 0.4431 - val_loss: 0.0756 - val_acc: 0.4563\n",
      "Epoch 39/100\n",
      "60000/60000 [==============================] - 1s 24us/step - loss: 0.0755 - acc: 0.4521 - val_loss: 0.0751 - val_acc: 0.4664\n",
      "Epoch 40/100\n",
      "60000/60000 [==============================] - 1s 24us/step - loss: 0.0751 - acc: 0.4623 - val_loss: 0.0746 - val_acc: 0.4748\n",
      "Epoch 41/100\n",
      "60000/60000 [==============================] - 1s 25us/step - loss: 0.0746 - acc: 0.4718 - val_loss: 0.0742 - val_acc: 0.4854\n",
      "Epoch 42/100\n",
      "60000/60000 [==============================] - 1s 25us/step - loss: 0.0741 - acc: 0.4813 - val_loss: 0.0737 - val_acc: 0.4948\n",
      "Epoch 43/100\n",
      "60000/60000 [==============================] - 1s 24us/step - loss: 0.0736 - acc: 0.4898 - val_loss: 0.0732 - val_acc: 0.5032\n",
      "Epoch 44/100\n",
      "60000/60000 [==============================] - 1s 24us/step - loss: 0.0732 - acc: 0.4994 - val_loss: 0.0727 - val_acc: 0.5113\n",
      "Epoch 45/100\n",
      "60000/60000 [==============================] - 1s 23us/step - loss: 0.0727 - acc: 0.5068 - val_loss: 0.0722 - val_acc: 0.5216\n",
      "Epoch 46/100\n",
      "60000/60000 [==============================] - 1s 23us/step - loss: 0.0722 - acc: 0.5166 - val_loss: 0.0718 - val_acc: 0.5285\n",
      "Epoch 47/100\n",
      "60000/60000 [==============================] - 1s 24us/step - loss: 0.0717 - acc: 0.5256 - val_loss: 0.0713 - val_acc: 0.5351\n",
      "Epoch 48/100\n",
      "60000/60000 [==============================] - 1s 24us/step - loss: 0.0713 - acc: 0.5326 - val_loss: 0.0708 - val_acc: 0.5427\n",
      "Epoch 49/100\n",
      "60000/60000 [==============================] - 1s 24us/step - loss: 0.0708 - acc: 0.5402 - val_loss: 0.0703 - val_acc: 0.5496\n",
      "Epoch 50/100\n",
      "60000/60000 [==============================] - 1s 24us/step - loss: 0.0703 - acc: 0.5466 - val_loss: 0.0698 - val_acc: 0.5554\n",
      "Epoch 51/100\n",
      "60000/60000 [==============================] - 1s 23us/step - loss: 0.0698 - acc: 0.5538 - val_loss: 0.0693 - val_acc: 0.5624\n",
      "Epoch 52/100\n",
      "60000/60000 [==============================] - 1s 24us/step - loss: 0.0694 - acc: 0.5605 - val_loss: 0.0689 - val_acc: 0.5681\n",
      "Epoch 53/100\n",
      "60000/60000 [==============================] - 1s 24us/step - loss: 0.0689 - acc: 0.5672 - val_loss: 0.0684 - val_acc: 0.5740\n",
      "Epoch 54/100\n",
      "60000/60000 [==============================] - 1s 24us/step - loss: 0.0684 - acc: 0.5731 - val_loss: 0.0679 - val_acc: 0.5784\n",
      "Epoch 55/100\n",
      "60000/60000 [==============================] - 1s 24us/step - loss: 0.0680 - acc: 0.5781 - val_loss: 0.0674 - val_acc: 0.5837\n",
      "Epoch 56/100\n",
      "60000/60000 [==============================] - 1s 23us/step - loss: 0.0675 - acc: 0.5829 - val_loss: 0.0670 - val_acc: 0.5894\n",
      "Epoch 57/100\n",
      "60000/60000 [==============================] - 1s 24us/step - loss: 0.0670 - acc: 0.5878 - val_loss: 0.0665 - val_acc: 0.5939\n",
      "Epoch 58/100\n",
      "60000/60000 [==============================] - 1s 24us/step - loss: 0.0666 - acc: 0.5920 - val_loss: 0.0660 - val_acc: 0.5985\n",
      "Epoch 59/100\n"
     ]
    },
    {
     "name": "stdout",
     "output_type": "stream",
     "text": [
      "60000/60000 [==============================] - 1s 23us/step - loss: 0.0661 - acc: 0.5963 - val_loss: 0.0655 - val_acc: 0.6027\n",
      "Epoch 60/100\n",
      "60000/60000 [==============================] - 1s 23us/step - loss: 0.0656 - acc: 0.6007 - val_loss: 0.0651 - val_acc: 0.6065\n",
      "Epoch 61/100\n",
      "60000/60000 [==============================] - 1s 23us/step - loss: 0.0652 - acc: 0.6041 - val_loss: 0.0646 - val_acc: 0.6103\n",
      "Epoch 62/100\n",
      "60000/60000 [==============================] - 1s 23us/step - loss: 0.0647 - acc: 0.6080 - val_loss: 0.0641 - val_acc: 0.6135\n",
      "Epoch 63/100\n",
      "60000/60000 [==============================] - 1s 23us/step - loss: 0.0642 - acc: 0.6120 - val_loss: 0.0637 - val_acc: 0.6163\n",
      "Epoch 64/100\n",
      "60000/60000 [==============================] - 1s 23us/step - loss: 0.0638 - acc: 0.6151 - val_loss: 0.0632 - val_acc: 0.6189\n",
      "Epoch 65/100\n",
      "60000/60000 [==============================] - 1s 23us/step - loss: 0.0633 - acc: 0.6190 - val_loss: 0.0627 - val_acc: 0.6223\n",
      "Epoch 66/100\n",
      "60000/60000 [==============================] - 1s 23us/step - loss: 0.0629 - acc: 0.6218 - val_loss: 0.0623 - val_acc: 0.6254\n",
      "Epoch 67/100\n",
      "60000/60000 [==============================] - 1s 23us/step - loss: 0.0624 - acc: 0.6252 - val_loss: 0.0618 - val_acc: 0.6277\n",
      "Epoch 68/100\n",
      "60000/60000 [==============================] - 1s 23us/step - loss: 0.0620 - acc: 0.6284 - val_loss: 0.0613 - val_acc: 0.6309\n",
      "Epoch 69/100\n",
      "60000/60000 [==============================] - 1s 24us/step - loss: 0.0615 - acc: 0.6320 - val_loss: 0.0609 - val_acc: 0.6338\n",
      "Epoch 70/100\n",
      "60000/60000 [==============================] - 1s 23us/step - loss: 0.0611 - acc: 0.6348 - val_loss: 0.0604 - val_acc: 0.6364\n",
      "Epoch 71/100\n",
      "60000/60000 [==============================] - 1s 24us/step - loss: 0.0606 - acc: 0.6371 - val_loss: 0.0600 - val_acc: 0.6389\n",
      "Epoch 72/100\n",
      "60000/60000 [==============================] - 1s 23us/step - loss: 0.0602 - acc: 0.6395 - val_loss: 0.0595 - val_acc: 0.6420\n",
      "Epoch 73/100\n",
      "60000/60000 [==============================] - 1s 23us/step - loss: 0.0597 - acc: 0.6423 - val_loss: 0.0591 - val_acc: 0.6439\n",
      "Epoch 74/100\n",
      "60000/60000 [==============================] - 1s 23us/step - loss: 0.0593 - acc: 0.6444 - val_loss: 0.0586 - val_acc: 0.6465\n",
      "Epoch 75/100\n",
      "60000/60000 [==============================] - 1s 23us/step - loss: 0.0589 - acc: 0.6469 - val_loss: 0.0582 - val_acc: 0.6489\n",
      "Epoch 76/100\n",
      "60000/60000 [==============================] - 1s 24us/step - loss: 0.0584 - acc: 0.6500 - val_loss: 0.0577 - val_acc: 0.6497\n",
      "Epoch 77/100\n",
      "60000/60000 [==============================] - 1s 23us/step - loss: 0.0580 - acc: 0.6523 - val_loss: 0.0573 - val_acc: 0.6521\n",
      "Epoch 78/100\n",
      "60000/60000 [==============================] - 1s 23us/step - loss: 0.0576 - acc: 0.6547 - val_loss: 0.0569 - val_acc: 0.6555\n",
      "Epoch 79/100\n",
      "60000/60000 [==============================] - 1s 23us/step - loss: 0.0571 - acc: 0.6573 - val_loss: 0.0564 - val_acc: 0.6582\n",
      "Epoch 80/100\n",
      "60000/60000 [==============================] - 1s 23us/step - loss: 0.0567 - acc: 0.6598 - val_loss: 0.0560 - val_acc: 0.6605\n",
      "Epoch 81/100\n",
      "60000/60000 [==============================] - 1s 25us/step - loss: 0.0563 - acc: 0.6622 - val_loss: 0.0556 - val_acc: 0.6643\n",
      "Epoch 82/100\n",
      "60000/60000 [==============================] - 1s 24us/step - loss: 0.0559 - acc: 0.6655 - val_loss: 0.0551 - val_acc: 0.6676\n",
      "Epoch 83/100\n",
      "60000/60000 [==============================] - 2s 25us/step - loss: 0.0555 - acc: 0.6678 - val_loss: 0.0547 - val_acc: 0.6703\n",
      "Epoch 84/100\n",
      "60000/60000 [==============================] - 2s 26us/step - loss: 0.0550 - acc: 0.6713 - val_loss: 0.0543 - val_acc: 0.6741\n",
      "Epoch 85/100\n",
      "60000/60000 [==============================] - 2s 26us/step - loss: 0.0546 - acc: 0.6741 - val_loss: 0.0539 - val_acc: 0.6778\n",
      "Epoch 86/100\n",
      "60000/60000 [==============================] - 2s 25us/step - loss: 0.0542 - acc: 0.6779 - val_loss: 0.0535 - val_acc: 0.6813\n",
      "Epoch 87/100\n",
      "60000/60000 [==============================] - 1s 24us/step - loss: 0.0538 - acc: 0.6804 - val_loss: 0.0531 - val_acc: 0.6842\n",
      "Epoch 88/100\n",
      "60000/60000 [==============================] - 1s 24us/step - loss: 0.0534 - acc: 0.6839 - val_loss: 0.0527 - val_acc: 0.6876\n",
      "Epoch 89/100\n",
      "60000/60000 [==============================] - 1s 25us/step - loss: 0.0530 - acc: 0.6872 - val_loss: 0.0523 - val_acc: 0.6915\n",
      "Epoch 90/100\n",
      "60000/60000 [==============================] - 1s 24us/step - loss: 0.0527 - acc: 0.6904 - val_loss: 0.0519 - val_acc: 0.6951\n",
      "Epoch 91/100\n",
      "60000/60000 [==============================] - 1s 24us/step - loss: 0.0523 - acc: 0.6935 - val_loss: 0.0515 - val_acc: 0.6983\n",
      "Epoch 92/100\n",
      "60000/60000 [==============================] - 1s 25us/step - loss: 0.0519 - acc: 0.6976 - val_loss: 0.0511 - val_acc: 0.7023\n",
      "Epoch 93/100\n",
      "60000/60000 [==============================] - 1s 25us/step - loss: 0.0515 - acc: 0.7009 - val_loss: 0.0507 - val_acc: 0.7071\n",
      "Epoch 94/100\n",
      "60000/60000 [==============================] - 1s 25us/step - loss: 0.0511 - acc: 0.7040 - val_loss: 0.0503 - val_acc: 0.7100\n",
      "Epoch 95/100\n",
      "60000/60000 [==============================] - 1s 25us/step - loss: 0.0507 - acc: 0.7078 - val_loss: 0.0499 - val_acc: 0.7148\n",
      "Epoch 96/100\n",
      "60000/60000 [==============================] - 1s 24us/step - loss: 0.0504 - acc: 0.7114 - val_loss: 0.0496 - val_acc: 0.7193\n",
      "Epoch 97/100\n",
      "60000/60000 [==============================] - 1s 25us/step - loss: 0.0500 - acc: 0.7157 - val_loss: 0.0492 - val_acc: 0.7224\n",
      "Epoch 98/100\n",
      "60000/60000 [==============================] - 1s 24us/step - loss: 0.0497 - acc: 0.7188 - val_loss: 0.0488 - val_acc: 0.7264\n",
      "Epoch 99/100\n",
      "60000/60000 [==============================] - 1s 25us/step - loss: 0.0493 - acc: 0.7215 - val_loss: 0.0485 - val_acc: 0.7294\n",
      "Epoch 100/100\n",
      "60000/60000 [==============================] - 1s 25us/step - loss: 0.0489 - acc: 0.7249 - val_loss: 0.0481 - val_acc: 0.7336\n"
     ]
    },
    {
     "data": {
      "text/plain": [
       "<keras.callbacks.History at 0x7f122c37ca90>"
      ]
     },
     "execution_count": 34,
     "metadata": {},
     "output_type": "execute_result"
    }
   ],
   "source": [
    "model.fit(X_train,y_train,batch_size=128,epochs=100,verbose=1,validation_data=(X_test,y_test))"
   ]
  },
  {
   "cell_type": "code",
   "execution_count": null,
   "metadata": {},
   "outputs": [],
   "source": []
  }
 ],
 "metadata": {
  "kernelspec": {
   "display_name": "Python 3",
   "language": "python",
   "name": "python3"
  },
  "language_info": {
   "codemirror_mode": {
    "name": "ipython",
    "version": 3
   },
   "file_extension": ".py",
   "mimetype": "text/x-python",
   "name": "python",
   "nbconvert_exporter": "python",
   "pygments_lexer": "ipython3",
   "version": "3.6.2"
  }
 },
 "nbformat": 4,
 "nbformat_minor": 2
}
